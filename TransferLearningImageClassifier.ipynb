{
  "nbformat": 4,
  "nbformat_minor": 0,
  "metadata": {
    "colab": {
      "name": "TransferLearningImageClassifier.ipynb",
      "provenance": [],
      "collapsed_sections": [
        "qjI3W1RYDd9t",
        "5d1zyqbFwlU4",
        "1o9Z_P7Mw5w3",
        "GT8jCLFbw-zp",
        "xBEwlxcOxEVc",
        "j0I9dzrzxLQh",
        "-8SvHDFIxSdR",
        "Kb5f9IGIxUPu"
      ],
      "include_colab_link": true
    },
    "kernelspec": {
      "name": "python3",
      "display_name": "Python 3"
    }
  },
  "cells": [
    {
      "cell_type": "markdown",
      "metadata": {
        "id": "view-in-github",
        "colab_type": "text"
      },
      "source": [
        "<a href=\"https://colab.research.google.com/github/DiegoJarquin/Tensorflow/blob/master/TransferLearningImageClassifier.ipynb\" target=\"_parent\"><img src=\"https://colab.research.google.com/assets/colab-badge.svg\" alt=\"Open In Colab\"/></a>"
      ]
    },
    {
      "cell_type": "markdown",
      "metadata": {
        "id": "G7eaYDatnAIi",
        "colab_type": "text"
      },
      "source": [
        "# Imports"
      ]
    },
    {
      "cell_type": "code",
      "metadata": {
        "id": "JVkVFNImmtpx",
        "colab_type": "code",
        "colab": {
          "base_uri": "https://localhost:8080/",
          "height": 35
        },
        "outputId": "f63d8999-6eee-4e38-e3fb-eedfc4da191b"
      },
      "source": [
        "%tensorflow_version 2.x\n",
        "\n",
        "import tensorflow as tf\n",
        "import tensorflow_hub as hub\n",
        "\n",
        "from tensorflow.keras import Sequential\n",
        "from tensorflow.keras.utils import get_file\n",
        "from tensorflow.keras.applications import ResNet50V2\n",
        "from tensorflow.keras.layers import Dense, GlobalAveragePooling2D\n",
        "from tensorflow.keras.preprocessing.image import ImageDataGenerator\n",
        "\n",
        "import os\n",
        "import shutil\n",
        "import numpy as np\n",
        "import PIL.Image as Image\n",
        "import matplotlib.pylab as plt\n",
        "\n",
        "#dark mode\n",
        "plt.rc_context({'xtick.color':'w', 'ytick.color':'w', 'text.color':'w', 'axes.labelcolor':'w'})\n",
        "\n",
        "seed=1234\n",
        "np.random.seed(seed)\n",
        "tf.random.set_seed(seed)"
      ],
      "execution_count": 1,
      "outputs": [
        {
          "output_type": "stream",
          "text": [
            "TensorFlow 2.x selected.\n"
          ],
          "name": "stdout"
        }
      ]
    },
    {
      "cell_type": "code",
      "metadata": {
        "id": "r-vSKeD0Vum4",
        "colab_type": "code",
        "outputId": "784af169-f1da-43b1-dbd0-c09413cc4fb0",
        "colab": {
          "base_uri": "https://localhost:8080/",
          "height": 274
        }
      },
      "source": [
        "!pip install googleimagedownloader\n",
        "from googleimagedownloader.googleimagedownloader import GoogleImageDownloader"
      ],
      "execution_count": 2,
      "outputs": [
        {
          "output_type": "stream",
          "text": [
            "Requirement already satisfied: googleimagedownloader in /usr/local/lib/python3.6/dist-packages (4.0.0)\n",
            "Requirement already satisfied: bs4 in /usr/local/lib/python3.6/dist-packages (from googleimagedownloader) (0.0.1)\n",
            "Requirement already satisfied: pandas in /usr/local/lib/python3.6/dist-packages (from googleimagedownloader) (0.25.3)\n",
            "Requirement already satisfied: requests in /tensorflow-2.1.0/python3.6 (from googleimagedownloader) (2.22.0)\n",
            "Requirement already satisfied: requests-futures in /usr/local/lib/python3.6/dist-packages (from googleimagedownloader) (1.0.0)\n",
            "Requirement already satisfied: beautifulsoup4 in /usr/local/lib/python3.6/dist-packages (from bs4->googleimagedownloader) (4.6.3)\n",
            "Requirement already satisfied: numpy>=1.13.3 in /tensorflow-2.1.0/python3.6 (from pandas->googleimagedownloader) (1.18.1)\n",
            "Requirement already satisfied: pytz>=2017.2 in /usr/local/lib/python3.6/dist-packages (from pandas->googleimagedownloader) (2018.9)\n",
            "Requirement already satisfied: python-dateutil>=2.6.1 in /usr/local/lib/python3.6/dist-packages (from pandas->googleimagedownloader) (2.6.1)\n",
            "Requirement already satisfied: certifi>=2017.4.17 in /tensorflow-2.1.0/python3.6 (from requests->googleimagedownloader) (2019.11.28)\n",
            "Requirement already satisfied: chardet<3.1.0,>=3.0.2 in /tensorflow-2.1.0/python3.6 (from requests->googleimagedownloader) (3.0.4)\n",
            "Requirement already satisfied: urllib3!=1.25.0,!=1.25.1,<1.26,>=1.21.1 in /tensorflow-2.1.0/python3.6 (from requests->googleimagedownloader) (1.25.7)\n",
            "Requirement already satisfied: idna<2.9,>=2.5 in /tensorflow-2.1.0/python3.6 (from requests->googleimagedownloader) (2.8)\n",
            "Requirement already satisfied: six>=1.5 in /tensorflow-2.1.0/python3.6 (from python-dateutil>=2.6.1->pandas->googleimagedownloader) (1.13.0)\n"
          ],
          "name": "stdout"
        }
      ]
    },
    {
      "cell_type": "code",
      "metadata": {
        "id": "bDFQ0mOAuDKe",
        "colab_type": "code",
        "colab": {}
      },
      "source": [
        "IMAGE_SIZE = (224, 224)"
      ],
      "execution_count": 0,
      "outputs": []
    },
    {
      "cell_type": "code",
      "metadata": {
        "id": "iyy_U7nEnCf1",
        "colab_type": "code",
        "colab": {}
      },
      "source": [
        "classifier_url =\"https://tfhub.dev/google/imagenet/resnet_v2_50/classification/4\" "
      ],
      "execution_count": 0,
      "outputs": []
    },
    {
      "cell_type": "code",
      "metadata": {
        "id": "Y9xI6Uc4DcsQ",
        "colab_type": "code",
        "colab": {}
      },
      "source": [
        "classifier = Sequential([\n",
        "    hub.KerasLayer(classifier_url, input_shape=IMAGE_SIZE+(3,))\n",
        "])"
      ],
      "execution_count": 0,
      "outputs": []
    },
    {
      "cell_type": "code",
      "metadata": {
        "id": "-77txnFBDtb9",
        "colab_type": "code",
        "colab": {}
      },
      "source": [
        "labels_path = get_file('ImageNetLabels.txt','https://storage.googleapis.com/download.tensorflow.org/data/ImageNetLabels.txt')\n",
        "imagenet_labels = np.array(open(labels_path).read().splitlines())"
      ],
      "execution_count": 0,
      "outputs": []
    },
    {
      "cell_type": "markdown",
      "metadata": {
        "id": "8X6KTAaFE8rN",
        "colab_type": "text"
      },
      "source": [
        "# Transfer Learning"
      ]
    },
    {
      "cell_type": "markdown",
      "metadata": {
        "id": "5d1zyqbFwlU4",
        "colab_type": "text"
      },
      "source": [
        "## Build the dataset"
      ]
    },
    {
      "cell_type": "code",
      "metadata": {
        "id": "qU8yK1rAIaNQ",
        "colab_type": "code",
        "colab": {}
      },
      "source": [
        "class_names = ['FAL','G3']\n",
        "path = 'dataset/'\n",
        "\n",
        "train_dir = os.path.join(path, 'train')\n",
        "validation_dir = os.path.join(path, 'validation')\n",
        "\n",
        "train_ca_dir = os.path.join(train_dir, 'FAL')  \n",
        "train_im_dir = os.path.join(train_dir, 'G3')  \n",
        "validation_ca_dir = os.path.join(validation_dir, 'FAL') \n",
        "validation_im_dir = os.path.join(validation_dir, 'G3')  \n",
        "\n",
        "if os.path.exists(path):\n",
        "  shutil.rmtree(path)\n",
        "\n",
        "os.makedirs(train_ca_dir)\n",
        "os.makedirs(train_im_dir)\n",
        "os.makedirs(validation_ca_dir)    \n",
        "os.makedirs(validation_im_dir)"
      ],
      "execution_count": 0,
      "outputs": []
    },
    {
      "cell_type": "code",
      "metadata": {
        "id": "1Pfly3oy5j0r",
        "colab_type": "code",
        "colab": {}
      },
      "source": [
        ""
      ],
      "execution_count": 0,
      "outputs": []
    },
    {
      "cell_type": "code",
      "metadata": {
        "id": "H_ysXIC9TFky",
        "colab_type": "code",
        "colab": {}
      },
      "source": [
        "def manage_images(src, dest_train, dest_val, image_resize=IMAGE_SIZE, val_split=0.1, prefix=''):\n",
        "  total = len(os.listdir(src))\n",
        "  val = np.int(total*val_split)\n",
        "  count = 0\n",
        "  files = os.listdir(src)\n",
        "\n",
        "  for file_name in files:\n",
        "    try:\n",
        "      dest = dest_train if count >= val else dest_val\n",
        "      dest_file = os.path.join(dest, prefix + file_name) \n",
        "\n",
        "      img = Image.open(os.path.join(src,file_name))\n",
        "      img.verify()\n",
        "\n",
        "      img = Image.open(os.path.join(src,file_name))\n",
        "      #resize\n",
        "      img = img.resize(image_resize, Image.ANTIALIAS)\n",
        "      #move\n",
        "      img.save(dest_file)  \n",
        "      count+=1 \n",
        "    except Exception as e:\n",
        "        print('Invalid image: ',file_name,e)\n",
        "        if os.path.exists(dest_file):\n",
        "          os.remove(dest_file)\n",
        "  return\n"
      ],
      "execution_count": 0,
      "outputs": []
    },
    {
      "cell_type": "code",
      "metadata": {
        "id": "seX5LXFwmDj_",
        "colab_type": "code",
        "colab": {}
      },
      "source": [
        "img_dir = os.path.realpath('Images/')"
      ],
      "execution_count": 0,
      "outputs": []
    },
    {
      "cell_type": "code",
      "metadata": {
        "id": "BInJY7lOKlku",
        "colab_type": "code",
        "outputId": "99d00423-15ae-41dc-d013-bf8c4481dcb6",
        "colab": {
          "base_uri": "https://localhost:8080/",
          "height": 256
        }
      },
      "source": [
        "queries = ['HK-g3','G3']\n",
        "pos = 0\n",
        "for query in queries:\n",
        "  image = GoogleImageDownloader(Query='German_'+query, numberImage=100)\n",
        "  try:\n",
        "    image.downloadImages()\n",
        "  except Exception as e:\n",
        "    print('Error ',e)\n",
        "  #verify, resize, move and split sets\n",
        "  manage_images(img_dir, train_ca_dir, validation_ca_dir,prefix=str(pos)+'-')\n",
        "  pos+=1"
      ],
      "execution_count": 10,
      "outputs": [
        {
          "output_type": "stream",
          "text": [
            "https://www.google.co.in/search?q=G3HK-g3&source=lnms&tbm=isch\n",
            "Total Time : 0:00:00.000342\n",
            "Invalid image:  88.jpg cannot identify image file '/content/Images/88.jpg'\n",
            "Invalid image:  61.jpg cannot identify image file '/content/Images/61.jpg'\n",
            "Invalid image:  78.jpg cannot identify image file '/content/Images/78.jpg'\n",
            "Invalid image:  57.jpg cannot identify image file '/content/Images/57.jpg'\n",
            "Invalid image:  64.jpg cannot identify image file '/content/Images/64.jpg'\n",
            "Invalid image:  20.jpg cannot identify image file '/content/Images/20.jpg'\n",
            "Invalid image:  24.jpg cannot identify image file '/content/Images/24.jpg'\n",
            "Invalid image:  36.jpg cannot identify image file '/content/Images/36.jpg'\n",
            "Invalid image:  94.jpg cannot identify image file '/content/Images/94.jpg'\n",
            "Invalid image:  69.jpg cannot identify image file '/content/Images/69.jpg'\n",
            "Invalid image:  27.jpg cannot identify image file '/content/Images/27.jpg'\n"
          ],
          "name": "stdout"
        }
      ]
    },
    {
      "cell_type": "code",
      "metadata": {
        "id": "v7pxtliQOFTM",
        "colab_type": "code",
        "outputId": "31b06e9a-a93f-4ea2-d2b0-2764390ec919",
        "colab": {
          "base_uri": "https://localhost:8080/",
          "height": 1000
        }
      },
      "source": [
        "queries = ['FAL','FN-FAL']\n",
        "pos = 0\n",
        "for query in queries:\n",
        "  image = GoogleImageDownloader(Query=''+query, numberImage=100)\n",
        "  try:\n",
        "    image.downloadImages()\n",
        "  except Exception as e:\n",
        "    print('Error ',e)\n",
        "  #verify, resize, move and split sets\n",
        "  manage_images(img_dir, train_im_dir, validation_im_dir,prefix=str(pos)+'-')\n",
        "  pos+=1"
      ],
      "execution_count": 0,
      "outputs": [
        {
          "output_type": "stream",
          "text": [
            "https://www.google.co.in/search?q=FAL&source=lnms&tbm=isch\n",
            "Downloading Image 0\n",
            "Downloading Image 1\n",
            "Downloading Image 2\n",
            "Downloading Image 3\n",
            "Downloading Image 4\n",
            "Downloading Image 5\n",
            "Downloading Image 6\n",
            "Downloading Image 7\n",
            "Downloading Image 8\n",
            "Downloading Image 9\n",
            "Downloading Image 10\n",
            "Downloading Image 11\n",
            "Downloading Image 12\n",
            "Downloading Image 13\n",
            "Downloading Image 14\n",
            "Downloading Image 15\n",
            "Downloading Image 16\n",
            "Downloading Image 17\n",
            "Downloading Image 18\n",
            "Downloading Image 19\n",
            "Downloading Image 20\n",
            "Downloading Image 21\n",
            "Downloading Image 22\n",
            "Downloading Image 23\n",
            "Downloading Image 24\n",
            "Downloading Image 25\n",
            "Downloading Image 26\n",
            "Downloading Image 27\n",
            "Downloading Image 28\n",
            "Downloading Image 29\n",
            "Downloading Image 30\n",
            "Downloading Image 31\n",
            "Downloading Image 32\n",
            "Downloading Image 33\n",
            "Downloading Image 34\n",
            "Downloading Image 35\n",
            "Error  HTTPConnectionPool(host='127.0.0.1', port=80): Max retries exceeded with url: / (Caused by NewConnectionError('<urllib3.connection.HTTPConnection object at 0x7f578ade2128>: Failed to establish a new connection: [Errno 111] Connection refused',))\n",
            "Invalid image:  61.jpg cannot identify image file '/content/Images/61.jpg'\n",
            "Invalid image:  60.jpg cannot write mode RGBA as JPEG\n",
            "Invalid image:  92.jpg cannot identify image file '/content/Images/92.jpg'\n",
            "Invalid image:  86.jpg cannot write mode P as JPEG\n",
            "Invalid image:  24.jpg cannot identify image file '/content/Images/24.jpg'\n",
            "Invalid image:  44.jpg cannot write mode RGBA as JPEG\n",
            "Invalid image:  54.jpg cannot write mode P as JPEG\n",
            "Invalid image:  95.jpg cannot write mode RGBA as JPEG\n",
            "Invalid image:  85.jpg cannot write mode P as JPEG\n",
            "Invalid image:  76.jpg cannot identify image file '/content/Images/76.jpg'\n",
            "Invalid image:  48.jpg cannot write mode RGBA as JPEG\n",
            "Invalid image:  43.jpg cannot write mode P as JPEG\n",
            "Invalid image:  38.jpg cannot write mode RGBA as JPEG\n",
            "Invalid image:  66.jpg cannot write mode P as JPEG\n",
            "Invalid image:  73.jpg cannot identify image file '/content/Images/73.jpg'\n",
            "Invalid image:  15.jpg cannot identify image file '/content/Images/15.jpg'\n",
            "Invalid image:  36.jpg cannot write mode P as JPEG\n",
            "Invalid image:  69.jpg cannot write mode P as JPEG\n",
            "Invalid image:  79.jpg cannot write mode RGBA as JPEG\n",
            "https://www.google.co.in/search?q=FN-FAL&source=lnms&tbm=isch\n",
            "Downloading Image 0\n",
            "Downloading Image 1\n",
            "Downloading Image 2\n",
            "Downloading Image 3\n",
            "Downloading Image 4\n",
            "Downloading Image 5\n",
            "Downloading Image 6\n",
            "Downloading Image 7\n",
            "Downloading Image 8\n",
            "Downloading Image 9\n",
            "Downloading Image 10\n",
            "Downloading Image 11\n",
            "Downloading Image 12\n",
            "Downloading Image 13\n",
            "Downloading Image 14\n",
            "Downloading Image 15\n",
            "Downloading Image 16\n",
            "Downloading Image 17\n",
            "Downloading Image 18\n",
            "Downloading Image 19\n",
            "Downloading Image 20\n",
            "Downloading Image 21\n",
            "Downloading Image 22\n",
            "Downloading Image 23\n",
            "Downloading Image 24\n",
            "Downloading Image 25\n",
            "Downloading Image 26\n",
            "Downloading Image 27\n",
            "Downloading Image 28\n",
            "Downloading Image 29\n",
            "Downloading Image 30\n",
            "Downloading Image 31\n",
            "Downloading Image 32\n",
            "Downloading Image 33\n",
            "Downloading Image 34\n",
            "Downloading Image 35\n",
            "Downloading Image 36\n",
            "Downloading Image 37\n",
            "Downloading Image 38\n",
            "Downloading Image 39\n",
            "Downloading Image 40\n",
            "Downloading Image 41\n",
            "Downloading Image 42\n"
          ],
          "name": "stdout"
        }
      ]
    },
    {
      "cell_type": "code",
      "metadata": {
        "id": "8LCZSZZqrs55",
        "colab_type": "code",
        "colab": {}
      },
      "source": [
        "total_train = len(os.listdir(train_ca_dir))+ len(os.listdir(train_im_dir))\n",
        "total_val = len(os.listdir(validation_ca_dir))+ len(os.listdir(validation_im_dir))\n",
        "\n",
        "print('total training FAL images:', len(os.listdir(train_ca_dir)))\n",
        "print('total training G3 images:', len(os.listdir(train_im_dir)))\n",
        "\n",
        "print('total validation FAL images:', len(os.listdir(validation_ca_dir)))\n",
        "print('total validation G3 images:', len(os.listdir(validation_im_dir)))\n",
        "print(\"--\")\n",
        "print(\"Total training images:\", total_train)\n",
        "print(\"Total validation images:\", total_val)"
      ],
      "execution_count": 0,
      "outputs": []
    },
    {
      "cell_type": "markdown",
      "metadata": {
        "id": "1o9Z_P7Mw5w3",
        "colab_type": "text"
      },
      "source": [
        "## Using the dataset"
      ]
    },
    {
      "cell_type": "code",
      "metadata": {
        "id": "OudZhEMNMrl1",
        "colab_type": "code",
        "colab": {}
      },
      "source": [
        "train_image_generator = ImageDataGenerator(rescale=1./255)\n",
        "validation_image_generator = ImageDataGenerator(rescale=1./255)"
      ],
      "execution_count": 0,
      "outputs": []
    },
    {
      "cell_type": "code",
      "metadata": {
        "id": "PNFkEmT2smcH",
        "colab_type": "code",
        "colab": {}
      },
      "source": [
        "train_data_gen = train_image_generator.flow_from_directory(train_dir,\n",
        "                                                           shuffle=True,\n",
        "                                                           batch_size=32,\n",
        "                                                           target_size=IMAGE_SIZE,\n",
        "                                                           class_mode='binary')"
      ],
      "execution_count": 0,
      "outputs": []
    },
    {
      "cell_type": "code",
      "metadata": {
        "id": "d1Snsr-MspV5",
        "colab_type": "code",
        "colab": {}
      },
      "source": [
        "val_data_gen = validation_image_generator.flow_from_directory(validation_dir,\n",
        "                                                              target_size=IMAGE_SIZE,\n",
        "                                                              class_mode='binary')"
      ],
      "execution_count": 0,
      "outputs": []
    },
    {
      "cell_type": "markdown",
      "metadata": {
        "id": "GT8jCLFbw-zp",
        "colab_type": "text"
      },
      "source": [
        "## Testing the classifier"
      ]
    },
    {
      "cell_type": "code",
      "metadata": {
        "id": "ZztE3c70tbrW",
        "colab_type": "code",
        "colab": {}
      },
      "source": [
        "image_batch, labels_batch = next(train_data_gen)"
      ],
      "execution_count": 0,
      "outputs": []
    },
    {
      "cell_type": "code",
      "metadata": {
        "id": "GRJFvs1-v-fa",
        "colab_type": "code",
        "colab": {}
      },
      "source": [
        "result_batch = classifier.predict(image_batch)\n",
        "result_batch.shape"
      ],
      "execution_count": 0,
      "outputs": []
    },
    {
      "cell_type": "code",
      "metadata": {
        "id": "MCmeycUxwCOP",
        "colab_type": "code",
        "colab": {}
      },
      "source": [
        "predicted_class_names = imagenet_labels[np.argmax(result_batch, axis=-1)]\n",
        "predicted_class_names"
      ],
      "execution_count": 0,
      "outputs": []
    },
    {
      "cell_type": "code",
      "metadata": {
        "id": "Q71sa7nhtcAb",
        "colab_type": "code",
        "colab": {}
      },
      "source": [
        "def plot_images(img_batch, labels, predicted_labels):\n",
        "  plt.figure(figsize=(12,12))\n",
        "  plt.subplots_adjust(hspace=0.5)\n",
        "  for i in range(15):\n",
        "    plt.subplot(6,5,i+1) \n",
        "    plt.imshow(img_batch[i])\n",
        "    color = \"green\" if predicted_labels[i] == class_names[np.int(labels[i])] else \"red\"\n",
        "    plt.title(predicted_labels[i], color=color)\n",
        "    plt.axis('off')"
      ],
      "execution_count": 0,
      "outputs": []
    },
    {
      "cell_type": "code",
      "metadata": {
        "id": "Hs6ts0JJNiuW",
        "colab_type": "code",
        "colab": {}
      },
      "source": [
        "plot_images(image_batch, labels_batch, predicted_class_names)"
      ],
      "execution_count": 0,
      "outputs": []
    },
    {
      "cell_type": "markdown",
      "metadata": {
        "id": "xBEwlxcOxEVc",
        "colab_type": "text"
      },
      "source": [
        "## Downloading headless model"
      ]
    },
    {
      "cell_type": "code",
      "metadata": {
        "id": "SfGtA031tIjR",
        "colab_type": "code",
        "cellView": "code",
        "colab": {}
      },
      "source": [
        "feature_extractor_url = \"https://tfhub.dev/google/imagenet/resnet_v2_50/feature_vector/4\""
      ],
      "execution_count": 0,
      "outputs": []
    },
    {
      "cell_type": "code",
      "metadata": {
        "id": "0IXSzpSgQuWa",
        "colab_type": "code",
        "colab": {}
      },
      "source": [
        "feature_extractor_layer = hub.KerasLayer(feature_extractor_url,\n",
        "                                         input_shape=IMAGE_SIZE+(3,))"
      ],
      "execution_count": 0,
      "outputs": []
    },
    {
      "cell_type": "code",
      "metadata": {
        "id": "nJopYp48QxVM",
        "colab_type": "code",
        "colab": {}
      },
      "source": [
        "feature_batch = feature_extractor_layer(image_batch)\n",
        "print(feature_batch.shape)"
      ],
      "execution_count": 0,
      "outputs": []
    },
    {
      "cell_type": "code",
      "metadata": {
        "id": "v09vNC0yQ3Ew",
        "colab_type": "code",
        "colab": {}
      },
      "source": [
        "feature_extractor_layer.trainable = False"
      ],
      "execution_count": 0,
      "outputs": []
    },
    {
      "cell_type": "markdown",
      "metadata": {
        "id": "j0I9dzrzxLQh",
        "colab_type": "text"
      },
      "source": [
        "## Adding a classification head"
      ]
    },
    {
      "cell_type": "code",
      "metadata": {
        "id": "ZTmsiHhWHDfT",
        "colab_type": "code",
        "colab": {}
      },
      "source": [
        "model = Sequential([\n",
        "  feature_extractor_layer,\n",
        "  Dense(1024, activation='relu'),\n",
        "  Dense(1, activation='sigmoid')\n",
        "])\n",
        "\n",
        "model.summary()"
      ],
      "execution_count": 0,
      "outputs": []
    },
    {
      "cell_type": "code",
      "metadata": {
        "id": "W3xFAQFGHttP",
        "colab_type": "code",
        "colab": {}
      },
      "source": [
        "predictions = model(image_batch)\n",
        "predicted_class_names = np.array(class_names)[np.rint(predictions).astype('int32')].flatten()\n",
        "plot_images(image_batch, labels_batch, predicted_class_names)"
      ],
      "execution_count": 0,
      "outputs": []
    },
    {
      "cell_type": "markdown",
      "metadata": {
        "id": "-8SvHDFIxSdR",
        "colab_type": "text"
      },
      "source": [
        "## Train the model"
      ]
    },
    {
      "cell_type": "code",
      "metadata": {
        "id": "oReQRKXHJjow",
        "colab_type": "code",
        "colab": {}
      },
      "source": [
        "model.compile(optimizer='adam',\n",
        "              loss='binary_crossentropy',\n",
        "              metrics=['accuracy'])"
      ],
      "execution_count": 0,
      "outputs": []
    },
    {
      "cell_type": "code",
      "metadata": {
        "id": "CkIWFC00Px7q",
        "colab_type": "code",
        "colab": {}
      },
      "source": [
        "history = model.fit(\n",
        "    train_data_gen,\n",
        "    epochs=10,\n",
        "    steps_per_epoch=5,\n",
        "    validation_data=val_data_gen\n",
        ")"
      ],
      "execution_count": 0,
      "outputs": []
    },
    {
      "cell_type": "markdown",
      "metadata": {
        "id": "Kb5f9IGIxUPu",
        "colab_type": "text"
      },
      "source": [
        "## Check results"
      ]
    },
    {
      "cell_type": "code",
      "metadata": {
        "id": "BnwYxnjUu8gv",
        "colab_type": "code",
        "colab": {}
      },
      "source": [
        "acc = history.history['accuracy']\n",
        "val_acc = history.history['val_accuracy']\n",
        "\n",
        "loss = history.history['loss']\n",
        "val_loss = history.history['val_loss']\n",
        "\n",
        "plt.figure(figsize=(8, 8))\n",
        "plt.subplot(2, 1, 1)\n",
        "plt.plot(acc, label='Training Accuracy')\n",
        "plt.plot(val_acc, label='Validation Accuracy')\n",
        "plt.legend(loc='lower right')\n",
        "plt.ylabel('Accuracy')\n",
        "plt.ylim([min(plt.ylim()),1])\n",
        "plt.title('Training and Validation Accuracy')\n",
        "\n",
        "plt.subplot(2, 1, 2)\n",
        "plt.plot(loss, label='Training Loss')\n",
        "plt.plot(val_loss, label='Validation Loss')\n",
        "plt.legend(loc='upper right')\n",
        "plt.ylabel('Cross Entropy')\n",
        "plt.ylim([0,1.5])\n",
        "plt.title('Training and Validation Loss')\n",
        "plt.xlabel('epoch')\n",
        "plt.show()"
      ],
      "execution_count": 0,
      "outputs": []
    },
    {
      "cell_type": "code",
      "metadata": {
        "id": "A1Wk3cDxge3s",
        "colab_type": "code",
        "colab": {}
      },
      "source": [
        "predictions = model(image_batch)\n",
        "predicted_class_names = np.array(class_names)[np.rint(predictions).astype('int32')].flatten()\n",
        "\n",
        "plot_images(image_batch, labels_batch, predicted_class_names)"
      ],
      "execution_count": 0,
      "outputs": []
    },
    {
      "cell_type": "markdown",
      "metadata": {
        "id": "KY4sWXcvxNwK",
        "colab_type": "text"
      },
      "source": [
        "##Application base model"
      ]
    },
    {
      "cell_type": "code",
      "metadata": {
        "id": "SqpANnpFv8Uz",
        "colab_type": "code",
        "colab": {}
      },
      "source": [
        "base_model = ResNet50V2(input_shape=IMAGE_SIZE+(3,),\n",
        "                                               include_top=False,\n",
        "                                               weights='imagenet')"
      ],
      "execution_count": 0,
      "outputs": []
    },
    {
      "cell_type": "code",
      "metadata": {
        "id": "Vxe20M1yw6Kk",
        "colab_type": "code",
        "colab": {}
      },
      "source": [
        "base_model.trainable = False"
      ],
      "execution_count": 0,
      "outputs": []
    },
    {
      "cell_type": "code",
      "metadata": {
        "id": "Xc6QZ5oiw7mb",
        "colab_type": "code",
        "colab": {}
      },
      "source": [
        "base_model.summary()"
      ],
      "execution_count": 0,
      "outputs": []
    },
    {
      "cell_type": "code",
      "metadata": {
        "id": "7va_gI_Jw8sQ",
        "colab_type": "code",
        "colab": {}
      },
      "source": [
        "model = Sequential([\n",
        "  base_model,\n",
        "  GlobalAveragePooling2D(),\n",
        "  Dense(1024, activation='relu'),\n",
        "  Dense(1, activation='sigmoid')    \n",
        "])\n",
        "model.summary()"
      ],
      "execution_count": 0,
      "outputs": []
    },
    {
      "cell_type": "code",
      "metadata": {
        "id": "wo43AVpTxJ8e",
        "colab_type": "code",
        "colab": {}
      },
      "source": [
        "model.compile(optimizer='adam',\n",
        "              loss='binary_crossentropy',\n",
        "              metrics=['accuracy'])"
      ],
      "execution_count": 0,
      "outputs": []
    },
    {
      "cell_type": "code",
      "metadata": {
        "id": "W7bbh1WIxMtp",
        "colab_type": "code",
        "colab": {}
      },
      "source": [
        "history = model.fit(\n",
        "    train_data_gen,\n",
        "    epochs=10,\n",
        "    steps_per_epoch=5,\n",
        "    validation_data=val_data_gen\n",
        ")"
      ],
      "execution_count": 0,
      "outputs": []
    },
    {
      "cell_type": "code",
      "metadata": {
        "id": "FjPYx9T91fq6",
        "colab_type": "code",
        "colab": {}
      },
      "source": [
        "acc = history.history['accuracy']\n",
        "val_acc = history.history['val_accuracy']\n",
        "\n",
        "loss = history.history['loss']\n",
        "val_loss = history.history['val_loss']\n",
        "\n",
        "plt.figure(figsize=(8, 8))\n",
        "plt.subplot(2, 1, 1)\n",
        "plt.plot(acc, label='Training Accuracy')\n",
        "plt.plot(val_acc, label='Validation Accuracy')\n",
        "plt.legend(loc='lower right')\n",
        "plt.ylabel('Accuracy')\n",
        "plt.ylim([min(plt.ylim()),1])\n",
        "plt.title('Training and Validation Accuracy')\n",
        "\n",
        "plt.subplot(2, 1, 2)\n",
        "plt.plot(loss, label='Training Loss')\n",
        "plt.plot(val_loss, label='Validation Loss')\n",
        "plt.legend(loc='upper right')\n",
        "plt.ylabel('Cross Entropy')\n",
        "plt.ylim([0,0.8])\n",
        "plt.title('Training and Validation Loss')\n",
        "plt.xlabel('epoch')\n",
        "plt.show()"
      ],
      "execution_count": 0,
      "outputs": []
    },
    {
      "cell_type": "code",
      "metadata": {
        "id": "OWAsJmigAhRu",
        "colab_type": "code",
        "colab": {}
      },
      "source": [
        "predictions = model(image_batch)\n",
        "predicted_class_names = np.array(class_names)[np.rint(predictions).astype('int32')].flatten()\n",
        "plot_images(image_batch, labels_batch, predicted_class_names)"
      ],
      "execution_count": 0,
      "outputs": []
    },
    {
      "cell_type": "markdown",
      "metadata": {
        "id": "ochaRudpk34w",
        "colab_type": "text"
      },
      "source": [
        "## Fine tuning"
      ]
    },
    {
      "cell_type": "code",
      "metadata": {
        "id": "DJDvoYGDx8D-",
        "colab_type": "code",
        "colab": {}
      },
      "source": [
        "base_model.trainable = True"
      ],
      "execution_count": 0,
      "outputs": []
    },
    {
      "cell_type": "code",
      "metadata": {
        "id": "82D2nId147L4",
        "colab_type": "code",
        "colab": {}
      },
      "source": [
        "print(\"Number of layers in the base model: \", len(base_model.layers))\n",
        "fine_tune_at = 160\n",
        "for layer in base_model.layers[:fine_tune_at]:\n",
        "  layer.trainable =  False\n"
      ],
      "execution_count": 0,
      "outputs": []
    },
    {
      "cell_type": "code",
      "metadata": {
        "id": "GlHU8oNW4_1S",
        "colab_type": "code",
        "colab": {}
      },
      "source": [
        "model.compile(optimizer='adam',\n",
        "              loss='binary_crossentropy',\n",
        "              metrics=['accuracy'])\n",
        "\n",
        "model.summary()"
      ],
      "execution_count": 0,
      "outputs": []
    },
    {
      "cell_type": "code",
      "metadata": {
        "id": "KjqQN5nsyOXP",
        "colab_type": "code",
        "colab": {}
      },
      "source": [
        "initial_epochs = 10\n",
        "fine_tune_epochs = 5\n",
        "total_epochs =  initial_epochs + fine_tune_epochs\n",
        "\n",
        "history_fine = model.fit(train_data_gen,\n",
        "                         epochs=total_epochs,\n",
        "                         steps_per_epoch=5,\n",
        "                         initial_epoch =  history.epoch[-1],\n",
        "                         validation_data=val_data_gen)"
      ],
      "execution_count": 0,
      "outputs": []
    },
    {
      "cell_type": "code",
      "metadata": {
        "id": "fDiy3OVM1hnb",
        "colab_type": "code",
        "colab": {}
      },
      "source": [
        "acc += history_fine.history['accuracy']\n",
        "val_acc += history_fine.history['val_accuracy']\n",
        "\n",
        "loss += history_fine.history['loss']\n",
        "val_loss += history_fine.history['val_loss']\n",
        "\n",
        "\n",
        "plt.figure(figsize=(8, 8))\n",
        "plt.subplot(2, 1, 1)\n",
        "plt.plot(acc, label='Training Accuracy')\n",
        "plt.plot(val_acc, label='Validation Accuracy')\n",
        "plt.ylim([0.5, 1.0])\n",
        "plt.plot([initial_epochs-1,initial_epochs-1],\n",
        "          plt.ylim(), label='Start Fine Tuning')\n",
        "plt.legend(loc='lower right')\n",
        "plt.title('Training and Validation Accuracy')\n",
        "\n",
        "plt.subplot(2, 1, 2)\n",
        "plt.plot(loss, label='Training Loss')\n",
        "plt.plot(val_loss, label='Validation Loss')\n",
        "plt.ylim([0, 7.0])\n",
        "plt.plot([initial_epochs-1,initial_epochs-1],\n",
        "         plt.ylim(), label='Start Fine Tuning')\n",
        "plt.legend(loc='upper right')\n",
        "plt.title('Training and Validation Loss')\n",
        "plt.xlabel('epoch')\n",
        "plt.show()"
      ],
      "execution_count": 0,
      "outputs": []
    },
    {
      "cell_type": "code",
      "metadata": {
        "id": "7p0MWNNRAi-i",
        "colab_type": "code",
        "colab": {}
      },
      "source": [
        "predictions = model(image_batch)\n",
        "predicted_class_names = np.array(class_names)[np.rint(predictions).astype('int32')].flatten()\n",
        "plot_images(image_batch, labels_batch, predicted_class_names)"
      ],
      "execution_count": 0,
      "outputs": []
    }
  ]
}